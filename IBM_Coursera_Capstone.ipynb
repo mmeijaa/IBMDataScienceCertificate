{
 "cells": [
  {
   "cell_type": "markdown",
   "metadata": {},
   "source": [
    "# IBM Coursera Capstone Project\n",
    "\n",
    "In 2017, motor vehicle accidents would have taken 13th place in the CDC's report on the number of deaths and leading causes of death. However, it was not officially listed because motor vehicle accident-related deaths are two-fold: 1) deaths at the scene of the accident, and 2) deaths elsewhere that resulted from injuries caused by motor vehicle accidents. According to the U.S. Department of Transportation, National Highway Traffic Safety Administration, there were 6,734,000 motor vehicle crashes in 2018.\n",
    "\n",
    "While not all crashes result in death, the volume of crashes and deaths beg an interesting question about what factors play into the likeliness of a crash. Our dataset contains approximately 20,000 attributes and has been recommended by the IBM Data Science Certification program on Coursera (therefore, it can be presumed reliable). After pre-processing the data, we will use a supervised learning to train and test a machine learning model that predicts the likelihood of getting into an accident based on specific features (e.g. weather, road conditions)."
   ]
  },
  {
   "cell_type": "code",
   "execution_count": 1,
   "metadata": {},
   "outputs": [],
   "source": [
    "import pandas as pd\n",
    "import numpy as np"
   ]
  },
  {
   "cell_type": "code",
   "execution_count": 2,
   "metadata": {},
   "outputs": [
    {
     "name": "stdout",
     "output_type": "stream",
     "text": [
      "Hello Capstone Project Course!\n"
     ]
    }
   ],
   "source": [
    "print('Hello Capstone Project Course!')"
   ]
  },
  {
   "cell_type": "code",
   "execution_count": null,
   "metadata": {},
   "outputs": [],
   "source": []
  }
 ],
 "metadata": {
  "kernelspec": {
   "display_name": "Python 3",
   "language": "python",
   "name": "python3"
  },
  "language_info": {
   "codemirror_mode": {
    "name": "ipython",
    "version": 3
   },
   "file_extension": ".py",
   "mimetype": "text/x-python",
   "name": "python",
   "nbconvert_exporter": "python",
   "pygments_lexer": "ipython3",
   "version": "3.7.6"
  }
 },
 "nbformat": 4,
 "nbformat_minor": 2
}
